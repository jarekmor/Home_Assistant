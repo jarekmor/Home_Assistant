{
 "cells": [
  {
   "cell_type": "code",
   "execution_count": 20,
   "id": "4775553a-9074-415c-898e-1ffae76860dd",
   "metadata": {},
   "outputs": [],
   "source": [
    "import random\n",
    "import pandas as pd\n",
    "import detective.core as detective\n",
    "import detective.functions as functions"
   ]
  },
  {
   "cell_type": "code",
   "execution_count": 21,
   "id": "2da504e7-1992-4906-9b93-6593628995d6",
   "metadata": {},
   "outputs": [
    {
     "name": "stdout",
     "output_type": "stream",
     "text": [
      "Successfully connected to database sqlite:////config/home-assistant_v2.db\n",
      "There are 391 entities with data\n"
     ]
    }
   ],
   "source": [
    "db = detective.db_from_hass_config()"
   ]
  },
  {
   "cell_type": "code",
   "execution_count": 22,
   "id": "a7610fc3-078b-440b-9d56-15f47002c8b4",
   "metadata": {},
   "outputs": [
    {
     "name": "stdout",
     "output_type": "stream",
     "text": [
      "The returned Pandas dataframe has 78 rows of data.\n"
     ]
    }
   ],
   "source": [
    "df = db.fetch_all_data_of(('sensor.disk_use',))  # sensor z HA"
   ]
  },
  {
   "cell_type": "code",
   "execution_count": 23,
   "id": "64816ed5-3c8c-4f67-8f8a-659a8fc0a17d",
   "metadata": {},
   "outputs": [
    {
     "data": {
      "text/html": [
       "<div>\n",
       "<style scoped>\n",
       "    .dataframe tbody tr th:only-of-type {\n",
       "        vertical-align: middle;\n",
       "    }\n",
       "\n",
       "    .dataframe tbody tr th {\n",
       "        vertical-align: top;\n",
       "    }\n",
       "\n",
       "    .dataframe thead th {\n",
       "        text-align: right;\n",
       "    }\n",
       "</style>\n",
       "<table border=\"1\" class=\"dataframe\">\n",
       "  <thead>\n",
       "    <tr style=\"text-align: right;\">\n",
       "      <th></th>\n",
       "      <th>domain</th>\n",
       "      <th>entity_id</th>\n",
       "      <th>state</th>\n",
       "      <th>last_changed</th>\n",
       "      <th>attributes</th>\n",
       "    </tr>\n",
       "  </thead>\n",
       "  <tbody>\n",
       "    <tr>\n",
       "      <th>0</th>\n",
       "      <td>None</td>\n",
       "      <td>sensor.disk_use</td>\n",
       "      <td>34.8</td>\n",
       "      <td>2022-04-30 13:19:16.479450</td>\n",
       "      <td>None</td>\n",
       "    </tr>\n",
       "    <tr>\n",
       "      <th>1</th>\n",
       "      <td>None</td>\n",
       "      <td>sensor.disk_use</td>\n",
       "      <td>34.7</td>\n",
       "      <td>2022-04-30 13:08:16.427597</td>\n",
       "      <td>None</td>\n",
       "    </tr>\n",
       "    <tr>\n",
       "      <th>2</th>\n",
       "      <td>None</td>\n",
       "      <td>sensor.disk_use</td>\n",
       "      <td>34.8</td>\n",
       "      <td>2022-04-30 12:51:46.340136</td>\n",
       "      <td>None</td>\n",
       "    </tr>\n",
       "    <tr>\n",
       "      <th>3</th>\n",
       "      <td>None</td>\n",
       "      <td>sensor.disk_use</td>\n",
       "      <td>34.7</td>\n",
       "      <td>2022-04-30 12:32:31.231737</td>\n",
       "      <td>None</td>\n",
       "    </tr>\n",
       "    <tr>\n",
       "      <th>4</th>\n",
       "      <td>None</td>\n",
       "      <td>sensor.disk_use</td>\n",
       "      <td>34.8</td>\n",
       "      <td>2022-04-30 12:29:01.212117</td>\n",
       "      <td>None</td>\n",
       "    </tr>\n",
       "  </tbody>\n",
       "</table>\n",
       "</div>"
      ],
      "text/plain": [
       "  domain        entity_id state                last_changed attributes\n",
       "0   None  sensor.disk_use  34.8  2022-04-30 13:19:16.479450       None\n",
       "1   None  sensor.disk_use  34.7  2022-04-30 13:08:16.427597       None\n",
       "2   None  sensor.disk_use  34.8  2022-04-30 12:51:46.340136       None\n",
       "3   None  sensor.disk_use  34.7  2022-04-30 12:32:31.231737       None\n",
       "4   None  sensor.disk_use  34.8  2022-04-30 12:29:01.212117       None"
      ]
     },
     "execution_count": 23,
     "metadata": {},
     "output_type": "execute_result"
    }
   ],
   "source": [
    "df.head() # tabela dla sensor.disk_use"
   ]
  },
  {
   "cell_type": "code",
   "execution_count": 24,
   "id": "8bb613c6-9a9e-4189-912f-800d889a470d",
   "metadata": {},
   "outputs": [],
   "source": [
    "columns=['last_changed','state']\n",
    "df1 = df[columns].copy()"
   ]
  },
  {
   "cell_type": "code",
   "execution_count": 25,
   "id": "7b5fa3f3-b1b6-4176-a435-5cd1547c53e7",
   "metadata": {},
   "outputs": [],
   "source": [
    "numb = random.randrange(1000)\n",
    "df1.to_csv(\"home-assistant_disk_use_\"+ str(numb) + \".csv\", index = False)"
   ]
  },
  {
   "cell_type": "code",
   "execution_count": null,
   "id": "45660e47-81a1-4105-b4f9-c44c69317ec5",
   "metadata": {},
   "outputs": [],
   "source": []
  }
 ],
 "metadata": {
  "kernelspec": {
   "display_name": "Python 3 (ipykernel)",
   "language": "python",
   "name": "python3"
  },
  "language_info": {
   "codemirror_mode": {
    "name": "ipython",
    "version": 3
   },
   "file_extension": ".py",
   "mimetype": "text/x-python",
   "name": "python",
   "nbconvert_exporter": "python",
   "pygments_lexer": "ipython3",
   "version": "3.9.2"
  }
 },
 "nbformat": 4,
 "nbformat_minor": 5
}
